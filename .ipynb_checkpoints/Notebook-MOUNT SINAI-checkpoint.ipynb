{
 "cells": [
  {
   "cell_type": "markdown",
   "metadata": {},
   "source": [
    "# Business Case \n",
    "## Population Analysis using SQL"
   ]
  },
  {
   "cell_type": "markdown",
   "metadata": {},
   "source": [
    "# Import Data\n",
    "\n",
    "I used the Azure Import Wizard to import the three csv files:\n",
    "\n",
    "- Z\\_CS\\_MBR\\_ELIG - Member Eligibility\n",
    "- Z\\_CS\\_MBR\\_ELIG\\_MTHS - Member Month \n",
    "- Z\\_CS\\_CLAIM\\_HDR - Claims Header\n",
    "\n",
    "I modified the data types as needed to successfully import filed into tables. Changes include:\n",
    "\n",
    "- Reformatted the clinical condition columns (Diabetes, Vascular Disease, etc) to tinyint. I recognize that these are binary, bit columns however I encountered errors when loading the data as bit and binary.\n",
    "    \n",
    "- Reformatted NPI to NVARCHAR in case of any leading or trailing zeros"
   ]
  },
  {
   "cell_type": "code",
   "execution_count": 9,
   "metadata": {
    "ExecuteTime": {
     "end_time": "2022-08-05T20:07:08.383298Z",
     "start_time": "2022-08-05T20:07:08.372906Z"
    }
   },
   "outputs": [
    {
     "name": "stdout",
     "output_type": "stream",
     "text": [
      "sample string\n"
     ]
    }
   ],
   "source": [
    "import re\n",
    "a1 = 'samp\"le s\"tring'\n",
    "a2 = re.sub('\"','',a1)\n",
    "print(a2) "
   ]
  },
  {
   "cell_type": "markdown",
   "metadata": {},
   "source": [
    "# Cursory Review of Data\n",
    "\n",
    "- **Z\\_CS\\_MBR\\_ELIG - Member Eligibility**\n",
    "    \n",
    "    - 80 records\n",
    "    - 80 unique Member\\_IDs\n",
    "    - No null values in Payer, LOB, Member\\_ID, or DOB columns\n",
    "    - _Note:_ 26 of the 80 Member\\_IDs have an unknown Race/Ethnicity making this column less useful in analysis \n",
    "    - Members distributed evenly across Payers/LOBs\n",
    "\n",
    "\n",
    "\n"
   ]
  },
  {
   "cell_type": "code",
   "execution_count": 10,
   "metadata": {
    "ExecuteTime": {
     "end_time": "2022-08-05T20:07:19.936323Z",
     "start_time": "2022-08-05T20:07:19.929383Z"
    }
   },
   "outputs": [],
   "source": [
    "sql_query = \"\"\"\n",
    "SELECT PAYER, LOB, COUNT(*) AS \"# Of Members\"  \n",
    "FROM Z_CS_MBR_ELIG  \n",
    "GROUP BY PAYER, LOB;\n",
    "\"\"\""
   ]
  },
  {
   "cell_type": "markdown",
   "metadata": {},
   "source": [
    "- **Z\\_CS\\_MBR\\_ELIG\\_MTH - Member Months**\n",
    "    \n",
    "    - 825 records\n",
    "    - 80 unique Member\\_IDs\n",
    "    - No null values in Payer, LOB, Member\\_ID, EFFPER, or Practice columns\n",
    "    - Between 83 and 88% of members are eligible during any given month\n"
   ]
  },
  {
   "cell_type": "code",
   "execution_count": 11,
   "metadata": {
    "ExecuteTime": {
     "end_time": "2022-08-05T20:07:21.597463Z",
     "start_time": "2022-08-05T20:07:21.591432Z"
    }
   },
   "outputs": [],
   "source": [
    "sql_query = \"\"\"\n",
    "SELECT EFFPER, COUNT(DISTINCT MEMBER_ID)  \n",
    "AS \"Unique Members\"  \n",
    "FROM Z_CS_MBR_ELIG_MTH  \n",
    "GROUP BY EFFPER  \n",
    "ORDER BY EFFPER ASC;\n",
    "\"\"\""
   ]
  },
  {
   "cell_type": "markdown",
   "metadata": {
    "ExecuteTime": {
     "end_time": "2022-08-05T19:56:23.435906Z",
     "start_time": "2022-08-05T19:56:23.417278Z"
    }
   },
   "source": [
    "- **Z\\_CS\\_CLAIM\\_HDR - Claim Header**\n",
    "    \n",
    "    - 3,230 records\n",
    "    - 80 unique Member\\_IDs\n",
    "    - No null values in Payer, LOB, Member\\_ID, Claim\\_ID, or Date of Service columns\n",
    "    - Approximately 50% of members have claims in a given month\n",
    "\n"
   ]
  },
  {
   "cell_type": "code",
   "execution_count": 12,
   "metadata": {
    "ExecuteTime": {
     "end_time": "2022-08-05T20:07:24.510984Z",
     "start_time": "2022-08-05T20:07:24.505117Z"
    }
   },
   "outputs": [],
   "source": [
    "sql_query = \"\"\"\n",
    "SELECT MONTH(DATE_OF_SERVICE) AS \"Month\"\n",
    "COUNT(DISTINCT MEMBER_ID)\n",
    "AS '# of Members with Claims'\n",
    "FROM Z_CS_CLAIM_HDR\n",
    "GROUP BY MONTH(DATE_OF_SERVICE)\n",
    "ORDER BY MONTH(DATE_OF_SERVICE) ASC;\n",
    "\"\"\""
   ]
  },
  {
   "cell_type": "markdown",
   "metadata": {
    "azdata_cell_guid": "29b36298-655b-43f5-8882-7aa94c8ce90d"
   },
   "source": [
    "\n",
    "\n",
    "# Assumptions for Table Joins\n",
    "\n",
    "_**Member\\_ID is the unique key** which represents a member and is consistent across the three tables.  Tables will be joined on this column._\n",
    "\n",
    "- **Z\\_CS\\_MBR\\_ELIG - Member Eligibility**\n",
    "    \n",
    "    - Each row and Member\\_ID represents a unique member with eligibility at any time during 2020\n",
    "    - One record per Member\\_ID (N=80)\n",
    "    - The Member\\_IDs in this file are inclusive of Member\\_IDs in the Member Months and Claims Header tables\n",
    "    - This table will be used as the **_Left Outer Join_** table\n",
    "- **Z\\_CS\\_MBR\\_ELIG\\_MTH - Member Months**\n",
    "    \n",
    "    - Member\\_ID repeats for every month the member is eligible\n",
    "    - 80 unique Member\\_IDs, 825 total records across 12 months\n",
    "    - When joining to the Member Eligibility table, this will be the **_Right Inner Join_** table\n",
    "- **Z\\_CS\\_CLAIM\\_HDR - Claim Header**\n",
    "    \n",
    "    - Member\\_IDs repeat for each claim. 80 unique members incurred over 3,000 claims in the 12 month period\n",
    "    - Not all members will have a claim record.  Approximately 50% of members have claims in a given month\n",
    "    - When joining to the Member Eligibility table, this will be the **_Right Inner Join_** table\n",
    "\n"
   ]
  },
  {
   "cell_type": "markdown",
   "metadata": {},
   "source": [
    "# Analysis\n",
    "\n",
    "## Prompt 1\n",
    "\n",
    "### What are the top 3 practices with the most patients?"
   ]
  },
  {
   "cell_type": "markdown",
   "metadata": {},
   "source": [
    "**Code**\\\n",
    "The code below shows the number of unique members assocated with a practice and NPI combination.  "
   ]
  },
  {
   "cell_type": "code",
   "execution_count": 13,
   "metadata": {
    "ExecuteTime": {
     "end_time": "2022-08-05T20:07:28.730806Z",
     "start_time": "2022-08-05T20:07:28.721813Z"
    }
   },
   "outputs": [],
   "source": [
    "sql_query = \"\"\" \n",
    "SELECT PRACTICE, COUNT(DISTINCT MEMBER_ID) AS \"Unique Members\" \n",
    "FROM Z_CS_MBR_ELIG_MTH\n",
    "GROUP BY PRACTICE \n",
    "ORDER BY COUNT(DISTINCT MEMBER_ID) DESC;\n",
    "\"\"\""
   ]
  },
  {
   "cell_type": "markdown",
   "metadata": {},
   "source": [
    "**Result**\\\n",
    "Members are distributed across 50 practices with the highest number of members pertaining to:\n",
    "\n",
    "- Mount Sinai Doctors - Nesconset, Long Island (5 Members)\n",
    "- Mount Sinai Doctors - Staten Island (Victory Internal Medicine) (5 Members)\n",
    "- Another 5 members are associated with an unknown or unaffiliated practice.  !\n",
    "\n"
   ]
  },
  {
   "cell_type": "markdown",
   "metadata": {},
   "source": [
    "## Prompt 2\n",
    "\n",
    "### What NPI & Practice has the highest volume of Diabetic Patients? (Having Diabetes at any point in time)\n",
    "\n",
    "**Code** \n",
    "The code below filters members with a Diabetes Flag = 1 at any point in time and groups them by practice and NPI\n"
   ]
  },
  {
   "cell_type": "code",
   "execution_count": 32,
   "metadata": {
    "ExecuteTime": {
     "end_time": "2022-08-05T21:11:01.036404Z",
     "start_time": "2022-08-05T21:11:01.031597Z"
    }
   },
   "outputs": [],
   "source": [
    "sql_query = \"\"\"  \n",
    "SELECT NPI, PRACTICE, COUNT(DISTINCT MEMBER_ID) AS \"# Of Members\"\n",
    "FROM Z_CS_MBR_ELIG_MTH\n",
    "WHERE DIABETES = 1\n",
    "GROUP BY NPI, PRACTICE\n",
    "ORDER BY COUNT(DISTINCT MEMBER_ID) DESC;\n",
    "\n",
    "SELECT COUNT(DISTINCT MEMBER_ID)\n",
    "FROM Z_CS_MBR_ELIG_MTH\n",
    "WHERE DIABETES = 1;\n",
    "\"\"\""
   ]
  },
  {
   "cell_type": "markdown",
   "metadata": {},
   "source": [
    "**Result**\n",
    "\n",
    " - The provider with NPI 1225083546 at Mount Sinai Doctors Staten Island account for the most members with diabetes at any time during 2020.  \n",
    " - Of the 80 total members, with diabetes 41 (51%) have diabetes.  The above NPI and practice combination account for 7%.\n"
   ]
  },
  {
   "cell_type": "markdown",
   "metadata": {},
   "source": [
    "## Prompt 3\n",
    "\n",
    "### Calculate the Per Member Per Month Paid Amount of Diabetic Patients vs. Non-Diabetic Patients\n",
    "\n",
    "**Code**\n",
    "The code below creates 2 new tables: \n",
    " - (1) Create one row per member with 1,0 for the Diabetes Flag, total member months for the member as well as the Total Cost of Care (TCC).  \n",
    " - (2) Calculate the PMPM by dividing the sum of the total cost of care (TCC) column by the # total number of members months for members with Diabetes and without Diabetes. \n",
    "\n",
    "_**Note from analyst** - I realize that there is subquery function which would have made this more efficient, but for the sake of time, I used brute force and created new tables.  Note that I did include a drop table function._\n"
   ]
  },
  {
   "cell_type": "code",
   "execution_count": 15,
   "metadata": {
    "ExecuteTime": {
     "end_time": "2022-08-05T20:15:04.298124Z",
     "start_time": "2022-08-05T20:15:04.289891Z"
    }
   },
   "outputs": [],
   "source": [
    "sql_query = \"\"\"\n",
    "IF OBJECT_ID('dbo.DIABETES', 'U') IS NOT NULL\n",
    "DROP TABLE dbo.DIABETES\n",
    "\n",
    "SELECT \n",
    "Z_CS_MBR_ELIG_MTH.MEMBER_ID AS 'MEMBER', \n",
    "COUNT(DISTINCT Z_CS_MBR_ELIG_MTH.EFFPER) AS 'MBR_MONTHS',\n",
    "MAX(DIABETES) AS 'DIAB_FLAG'\n",
    "INTO dbo.DIABETES \n",
    "FROM Z_CS_MBR_ELIG_MTH\n",
    "GROUP BY Z_CS_MBR_ELIG_MTH.MEMBER_ID\n",
    "\n",
    "SELECT * FROM DIABETES\n",
    "\n",
    "IF OBJECT_ID('dbo.PMPM', 'U') IS NOT NULL\n",
    "DROP TABLE dbo.PMPM\n",
    "\n",
    "SELECT MEMBER, DIAB_FLAG, MBR_MONTHS, SUM(TCC_PAID) AS 'TCC'\n",
    "INTO dbo.PMPM\n",
    "FROM DIABETES \n",
    "LEFT OUTER JOIN Z_CS_CLAIM_HDR \n",
    "ON (DIABETES.MEMBER = Z_CS_CLAIM_HDR.MEMBER_ID)\n",
    "GROUP BY MEMBER, MBR_MONTHS, DIAB_FLAG;\n",
    "\n",
    "SELECT * FROM PMPM\n",
    "\n",
    "SELECT DIAB_FLAG, COUNT(MEMBER) AS \"# Of Members\", \n",
    "SUM(TCC)/SUM(MBR_MONTHS) AS \"PMPM\"\n",
    "FROM PMPM\n",
    "GROUP BY DIAB_FLAG\n",
    "\"\"\""
   ]
  },
  {
   "cell_type": "markdown",
   "metadata": {},
   "source": [
    "The data show that the 41 members who have diabetes incur a PMPM 2.5 times greater than those members without diabetes: -- $2,485 -- versus -- $961"
   ]
  },
  {
   "cell_type": "markdown",
   "metadata": {
    "ExecuteTime": {
     "end_time": "2022-08-04T17:26:01.561894Z",
     "start_time": "2022-08-04T17:26:01.512129Z"
    }
   },
   "source": [
    "## Prompt  4\n",
    "\n",
    "### Explore the relationship between patient demographics (age, gender, and race/ethnicity) and patient disease with the total cost of care.  \n",
    "\n",
    "### Is there any type of trend you can identify? \n",
    "\n",
    "**Code** \n",
    "\n",
    "The code below also creates a new table to show condition flags, # of Member Months, PMPM, as well as demographic information from the member eligibility table at the member level. \n",
    "\n",
    "I also added a new column to identify if a member had any condition during 2020. I was interested to see how much of an impact this has on TCC.\n",
    "\n",
    "**_Notes from Analyst_** \n",
    "\n",
    "  -After doing the table modifications in SQL, I ultimately reverted to Python to show correlation of variables with PMPM.  \n",
    "\n",
    "-This is an ideal use case linear regression  \n",
    "\n"
   ]
  },
  {
   "cell_type": "code",
   "execution_count": 16,
   "metadata": {
    "ExecuteTime": {
     "end_time": "2022-08-05T20:15:30.534108Z",
     "start_time": "2022-08-05T20:15:30.523959Z"
    }
   },
   "outputs": [],
   "source": [
    "sql_query = \"\"\"\n",
    "IF OBJECT_ID('dbo.CONDITIONS', 'U') IS NOT NULL\n",
    "DROP TABLE dbo.CONDITIONS\n",
    "\n",
    "SELECT Z_CS_MBR_ELIG_MTH.MEMBER_ID AS 'MEMBER', \n",
    "COUNT(DISTINCT Z_CS_MBR_ELIG_MTH.EFFPER) AS 'MBR_MONTHS',\n",
    "MAX(DIABETES) AS 'DIAB_FLAG', MAX(VASCULAR_DISEASE) AS 'VASC', \n",
    "MAX(PAD) AS 'PAD', MAX(AMI) AS 'AMI', MAX(COPD) AS 'COPD', \n",
    "MAX(CHF) AS 'CHF', MAX(STROKE) AS 'STROKE', \n",
    "MAX(ASTHMA) AS 'ASTHMA'\n",
    "INTO dbo.CONDITIONS\n",
    "FROM Z_CS_MBR_ELIG_MTH\n",
    "GROUP BY Z_CS_MBR_ELIG_MTH.MEMBER_ID\n",
    "\n",
    "SELECT * FROM CONDITIONS\n",
    "\n",
    "IF OBJECT_ID('dbo.MEMBER_COND', 'U') IS NOT NULL\n",
    "DROP TABLE dbo.MEMBER_CONDIF OBJECT_ID('dbo.CONDITIONS', 'U') IS NOT NULL\n",
    "DROP TABLE dbo.CONDITIONS\n",
    "\n",
    "SELECT MEMBER, MBR_MONTHS, DIAB_FLAG, VASC, PAD, \n",
    "AMI, COPD, CHF, STROKE, ASTHMA,\n",
    "SUM(DIAB_FLAG + VASC + PAD + AMI + COPD + CHF + STROKE + ASTHMA) AS 'COND',\n",
    "SUM(TCC_PAID) AS 'TCC'\n",
    "INTO dbo.MEMBER_COND\n",
    "FROM CONDITIONS \n",
    "LEFT OUTER JOIN Z_CS_CLAIM_HDR \n",
    "ON (CONDITIONS.MEMBER = Z_CS_CLAIM_HDR.MEMBER_ID)\n",
    "GROUP BY MEMBER, MBR_MONTHS, DIAB_FLAG, VASC, PAD, \n",
    "AMI, COPD, CHF, STROKE, ASTHMA;\n",
    "\n",
    "SELECT * FROM MEMBER_COND\n",
    "\n",
    "UPDATE MEMBER_COND \n",
    "SET COND = \n",
    "CASE\n",
    "WHEN COND > 0 THEN '1'\n",
    "ELSE '0'\n",
    "END\n",
    "\n",
    "SELECT * FROM MEMBER_COND\n",
    "\n",
    "SELECT COND, COUNT(MEMBER) AS \"# Of Members\", \n",
    "SUM(TCC)/SUM(MBR_MONTHS) AS \"PMPM\"\n",
    "FROM MEMBER_COND\n",
    "GROUP BY COND\n",
    "\"\"\"\n"
   ]
  },
  {
   "cell_type": "markdown",
   "metadata": {
    "ExecuteTime": {
     "end_time": "2022-08-04T17:24:13.491878Z",
     "start_time": "2022-08-04T17:24:13.476278Z"
    }
   },
   "source": [
    "**Results** \n",
    "\n",
    "The output shows that members with any condition incur a substantially higher PMPM than members without a condition.  \n",
    "\n",
    "    - The PMPM for members with a condition is 2,433 compared to 396 for members without a condition\n",
    "    - There are 53 members (35%) with any type of condition during 2020 and these members make up 92% of total cost of care for the population.  \n",
    "    \n",
    "\n"
   ]
  },
  {
   "cell_type": "code",
   "execution_count": 17,
   "metadata": {
    "ExecuteTime": {
     "end_time": "2022-08-05T20:15:37.823383Z",
     "start_time": "2022-08-05T20:15:35.905898Z"
    },
    "azdata_cell_guid": "cbb81c2f-fdd0-4dab-8be1-a592367fd87a"
   },
   "outputs": [
    {
     "name": "stderr",
     "output_type": "stream",
     "text": [
      "/opt/anaconda3/envs/learn-env/lib/python3.8/site-packages/statsmodels/tsa/base/tsa_model.py:7: FutureWarning: pandas.Int64Index is deprecated and will be removed from pandas in a future version. Use pandas.Index with the appropriate dtype instead.\n",
      "  from pandas import (to_datetime, Int64Index, DatetimeIndex, Period,\n",
      "/opt/anaconda3/envs/learn-env/lib/python3.8/site-packages/statsmodels/tsa/base/tsa_model.py:7: FutureWarning: pandas.Float64Index is deprecated and will be removed from pandas in a future version. Use pandas.Index with the appropriate dtype instead.\n",
      "  from pandas import (to_datetime, Int64Index, DatetimeIndex, Period,\n"
     ]
    }
   ],
   "source": [
    "import numpy as np\n",
    "import pandas as pd\n",
    "import seaborn as sns\n",
    "import statsmodels.api as sm\n",
    "from matplotlib import pyplot as plt\n",
    "from sklearn.linear_model import LinearRegression\n",
    "from sklearn.feature_selection import RFE\n",
    "from sklearn.preprocessing import PolynomialFeatures, StandardScaler\n",
    "from sklearn.preprocessing import OneHotEncoder, StandardScaler\n",
    "from scipy.stats import norm\n",
    "from sklearn.model_selection import train_test_split\n",
    "from sklearn.metrics import mean_absolute_error\n",
    "from IPython.display import display, HTML\n",
    "from sklearn.preprocessing import Normalizer\n",
    "from sklearn.metrics import mean_squared_error\n",
    "from datetime import datetime\n",
    "from datetime import date\n"
   ]
  },
  {
   "cell_type": "markdown",
   "metadata": {},
   "source": [
    "The code below shows my analysis in Python.  \n",
    "\n",
    "After loading in the summary table at the member level, I did the following: \n",
    "\n",
    "1. Reformatted the DOB field to a date format (it was loaded in as an object type), and calculated Age.  \n",
    "\n",
    "2. I ran an correlation heat map using Seaborn (sns) visualization tool.  \n",
    "\n",
    "**_Notes from Analyst:_** \n",
    "\n",
    "- I dropped the COND column to avoid colinearity between this and the individual condition columns.  (note - there is likely colinearity between these columns since many of these conditions are co-occurring.)\n",
    "\n",
    "\n",
    "- When showing the stats on the newly calculated age field, I noticed that the minimum value is -4 years.  This is for Member ID PAYER4_000001.  The DOB in the original csv file is 01-Jan-26.  After reformatting the spreadsheet to show the four digit year, I found that it is entered as 2026.  "
   ]
  },
  {
   "cell_type": "code",
   "execution_count": 18,
   "metadata": {
    "ExecuteTime": {
     "end_time": "2022-08-05T20:15:42.271125Z",
     "start_time": "2022-08-05T20:15:42.206611Z"
    }
   },
   "outputs": [],
   "source": [
    "df_members = pd.read_csv('/Users/dolant98/Documents/Job Projects/Results.csv')"
   ]
  },
  {
   "cell_type": "code",
   "execution_count": 19,
   "metadata": {
    "ExecuteTime": {
     "end_time": "2022-08-05T20:15:43.564257Z",
     "start_time": "2022-08-05T20:15:43.545660Z"
    }
   },
   "outputs": [],
   "source": [
    "df_members[\"DOB\"]= pd.to_datetime(df_members[\"DOB\"])"
   ]
  },
  {
   "cell_type": "code",
   "execution_count": 20,
   "metadata": {
    "ExecuteTime": {
     "end_time": "2022-08-05T20:15:44.590607Z",
     "start_time": "2022-08-05T20:15:44.564009Z"
    }
   },
   "outputs": [
    {
     "name": "stdout",
     "output_type": "stream",
     "text": [
      "<class 'pandas.core.frame.DataFrame'>\n",
      "RangeIndex: 80 entries, 0 to 79\n",
      "Data columns (total 15 columns):\n",
      " #   Column      Non-Null Count  Dtype         \n",
      "---  ------      --------------  -----         \n",
      " 0   MEMBER      80 non-null     object        \n",
      " 1   MBR_MONTHS  80 non-null     int64         \n",
      " 2   DIAB_FLAG   80 non-null     int64         \n",
      " 3   VASC        80 non-null     int64         \n",
      " 4   PAD         80 non-null     int64         \n",
      " 5   AMI         80 non-null     int64         \n",
      " 6   COPD        80 non-null     int64         \n",
      " 7   CHF         80 non-null     int64         \n",
      " 8   STROKE      80 non-null     int64         \n",
      " 9   ASTHMA      80 non-null     int64         \n",
      " 10  COND        80 non-null     int64         \n",
      " 11  DOB         80 non-null     datetime64[ns]\n",
      " 12  RACE-ETH    80 non-null     object        \n",
      " 13  GENDER      80 non-null     object        \n",
      " 14  TCC         80 non-null     int64         \n",
      "dtypes: datetime64[ns](1), int64(11), object(3)\n",
      "memory usage: 9.5+ KB\n"
     ]
    }
   ],
   "source": [
    "df_members.info()"
   ]
  },
  {
   "cell_type": "code",
   "execution_count": 21,
   "metadata": {
    "ExecuteTime": {
     "end_time": "2022-08-05T20:15:45.644658Z",
     "start_time": "2022-08-05T20:15:45.628407Z"
    }
   },
   "outputs": [],
   "source": [
    "def from_dob_to_age(born):\n",
    "    today = datetime.today().date()\n",
    "    return today.year - born.year - ((today.month, today.day) < (born.month, born.day))\n",
    "\n",
    "df_members['DOB'] = df_members['DOB'].apply(lambda x: from_dob_to_age(x))"
   ]
  },
  {
   "cell_type": "code",
   "execution_count": 22,
   "metadata": {
    "ExecuteTime": {
     "end_time": "2022-08-05T20:15:46.527579Z",
     "start_time": "2022-08-05T20:15:46.505324Z"
    }
   },
   "outputs": [
    {
     "data": {
      "text/plain": [
       "count    80.000000\n",
       "mean     60.237500\n",
       "std      20.639304\n",
       "min      -4.000000\n",
       "25%      53.500000\n",
       "50%      62.000000\n",
       "75%      75.250000\n",
       "max      91.000000\n",
       "Name: DOB, dtype: float64"
      ]
     },
     "execution_count": 22,
     "metadata": {},
     "output_type": "execute_result"
    }
   ],
   "source": [
    "df_members['DOB'].describe()"
   ]
  },
  {
   "cell_type": "code",
   "execution_count": 23,
   "metadata": {
    "ExecuteTime": {
     "end_time": "2022-08-05T20:15:47.247375Z",
     "start_time": "2022-08-05T20:15:47.218667Z"
    }
   },
   "outputs": [
    {
     "data": {
      "text/html": [
       "<div>\n",
       "<style scoped>\n",
       "    .dataframe tbody tr th:only-of-type {\n",
       "        vertical-align: middle;\n",
       "    }\n",
       "\n",
       "    .dataframe tbody tr th {\n",
       "        vertical-align: top;\n",
       "    }\n",
       "\n",
       "    .dataframe thead th {\n",
       "        text-align: right;\n",
       "    }\n",
       "</style>\n",
       "<table border=\"1\" class=\"dataframe\">\n",
       "  <thead>\n",
       "    <tr style=\"text-align: right;\">\n",
       "      <th></th>\n",
       "      <th>MEMBER</th>\n",
       "      <th>DIAB_FLAG</th>\n",
       "      <th>VASC</th>\n",
       "      <th>PAD</th>\n",
       "      <th>AMI</th>\n",
       "      <th>COPD</th>\n",
       "      <th>CHF</th>\n",
       "      <th>STROKE</th>\n",
       "      <th>ASTHMA</th>\n",
       "      <th>TCC</th>\n",
       "    </tr>\n",
       "  </thead>\n",
       "  <tbody>\n",
       "    <tr>\n",
       "      <th>0</th>\n",
       "      <td>PAYER1_000001</td>\n",
       "      <td>0</td>\n",
       "      <td>0</td>\n",
       "      <td>0</td>\n",
       "      <td>0</td>\n",
       "      <td>0</td>\n",
       "      <td>0</td>\n",
       "      <td>0</td>\n",
       "      <td>0</td>\n",
       "      <td>100</td>\n",
       "    </tr>\n",
       "    <tr>\n",
       "      <th>1</th>\n",
       "      <td>PAYER1_000002</td>\n",
       "      <td>0</td>\n",
       "      <td>0</td>\n",
       "      <td>0</td>\n",
       "      <td>0</td>\n",
       "      <td>0</td>\n",
       "      <td>0</td>\n",
       "      <td>0</td>\n",
       "      <td>0</td>\n",
       "      <td>1700</td>\n",
       "    </tr>\n",
       "    <tr>\n",
       "      <th>2</th>\n",
       "      <td>PAYER1_000003</td>\n",
       "      <td>0</td>\n",
       "      <td>0</td>\n",
       "      <td>0</td>\n",
       "      <td>0</td>\n",
       "      <td>0</td>\n",
       "      <td>0</td>\n",
       "      <td>0</td>\n",
       "      <td>0</td>\n",
       "      <td>7000</td>\n",
       "    </tr>\n",
       "    <tr>\n",
       "      <th>3</th>\n",
       "      <td>PAYER1_000004</td>\n",
       "      <td>0</td>\n",
       "      <td>0</td>\n",
       "      <td>0</td>\n",
       "      <td>1</td>\n",
       "      <td>0</td>\n",
       "      <td>0</td>\n",
       "      <td>0</td>\n",
       "      <td>0</td>\n",
       "      <td>800</td>\n",
       "    </tr>\n",
       "    <tr>\n",
       "      <th>4</th>\n",
       "      <td>PAYER1_000005</td>\n",
       "      <td>0</td>\n",
       "      <td>0</td>\n",
       "      <td>0</td>\n",
       "      <td>0</td>\n",
       "      <td>0</td>\n",
       "      <td>0</td>\n",
       "      <td>0</td>\n",
       "      <td>0</td>\n",
       "      <td>1400</td>\n",
       "    </tr>\n",
       "    <tr>\n",
       "      <th>...</th>\n",
       "      <td>...</td>\n",
       "      <td>...</td>\n",
       "      <td>...</td>\n",
       "      <td>...</td>\n",
       "      <td>...</td>\n",
       "      <td>...</td>\n",
       "      <td>...</td>\n",
       "      <td>...</td>\n",
       "      <td>...</td>\n",
       "      <td>...</td>\n",
       "    </tr>\n",
       "    <tr>\n",
       "      <th>75</th>\n",
       "      <td>PAYER4_000016</td>\n",
       "      <td>1</td>\n",
       "      <td>1</td>\n",
       "      <td>0</td>\n",
       "      <td>0</td>\n",
       "      <td>0</td>\n",
       "      <td>1</td>\n",
       "      <td>1</td>\n",
       "      <td>0</td>\n",
       "      <td>105800</td>\n",
       "    </tr>\n",
       "    <tr>\n",
       "      <th>76</th>\n",
       "      <td>PAYER4_000017</td>\n",
       "      <td>0</td>\n",
       "      <td>0</td>\n",
       "      <td>0</td>\n",
       "      <td>0</td>\n",
       "      <td>0</td>\n",
       "      <td>0</td>\n",
       "      <td>0</td>\n",
       "      <td>0</td>\n",
       "      <td>1000</td>\n",
       "    </tr>\n",
       "    <tr>\n",
       "      <th>77</th>\n",
       "      <td>PAYER4_000018</td>\n",
       "      <td>0</td>\n",
       "      <td>0</td>\n",
       "      <td>0</td>\n",
       "      <td>0</td>\n",
       "      <td>0</td>\n",
       "      <td>0</td>\n",
       "      <td>0</td>\n",
       "      <td>0</td>\n",
       "      <td>1300</td>\n",
       "    </tr>\n",
       "    <tr>\n",
       "      <th>78</th>\n",
       "      <td>PAYER4_000019</td>\n",
       "      <td>1</td>\n",
       "      <td>1</td>\n",
       "      <td>1</td>\n",
       "      <td>0</td>\n",
       "      <td>1</td>\n",
       "      <td>0</td>\n",
       "      <td>0</td>\n",
       "      <td>0</td>\n",
       "      <td>109600</td>\n",
       "    </tr>\n",
       "    <tr>\n",
       "      <th>79</th>\n",
       "      <td>PAYER4_000020</td>\n",
       "      <td>1</td>\n",
       "      <td>1</td>\n",
       "      <td>1</td>\n",
       "      <td>1</td>\n",
       "      <td>0</td>\n",
       "      <td>0</td>\n",
       "      <td>0</td>\n",
       "      <td>0</td>\n",
       "      <td>5400</td>\n",
       "    </tr>\n",
       "  </tbody>\n",
       "</table>\n",
       "<p>80 rows × 10 columns</p>\n",
       "</div>"
      ],
      "text/plain": [
       "           MEMBER  DIAB_FLAG  VASC  PAD  AMI  COPD  CHF  STROKE  ASTHMA  \\\n",
       "0   PAYER1_000001          0     0    0    0     0    0       0       0   \n",
       "1   PAYER1_000002          0     0    0    0     0    0       0       0   \n",
       "2   PAYER1_000003          0     0    0    0     0    0       0       0   \n",
       "3   PAYER1_000004          0     0    0    1     0    0       0       0   \n",
       "4   PAYER1_000005          0     0    0    0     0    0       0       0   \n",
       "..            ...        ...   ...  ...  ...   ...  ...     ...     ...   \n",
       "75  PAYER4_000016          1     1    0    0     0    1       1       0   \n",
       "76  PAYER4_000017          0     0    0    0     0    0       0       0   \n",
       "77  PAYER4_000018          0     0    0    0     0    0       0       0   \n",
       "78  PAYER4_000019          1     1    1    0     1    0       0       0   \n",
       "79  PAYER4_000020          1     1    1    1     0    0       0       0   \n",
       "\n",
       "       TCC  \n",
       "0      100  \n",
       "1     1700  \n",
       "2     7000  \n",
       "3      800  \n",
       "4     1400  \n",
       "..     ...  \n",
       "75  105800  \n",
       "76    1000  \n",
       "77    1300  \n",
       "78  109600  \n",
       "79    5400  \n",
       "\n",
       "[80 rows x 10 columns]"
      ]
     },
     "execution_count": 23,
     "metadata": {},
     "output_type": "execute_result"
    }
   ],
   "source": [
    "df_members_no_cond = df_members.drop(columns = ['COND', 'MBR_MONTHS', 'DOB', 'GENDER','RACE-ETH'])\n",
    "df_members_no_cond"
   ]
  },
  {
   "cell_type": "code",
   "execution_count": 24,
   "metadata": {
    "ExecuteTime": {
     "end_time": "2022-08-05T20:15:48.382180Z",
     "start_time": "2022-08-05T20:15:47.996904Z"
    }
   },
   "outputs": [
    {
     "data": {
      "image/png": "[encoded data removed]",
      "text/plain": [
       "<Figure size 864x720 with 2 Axes>"
      ]
     },
     "metadata": {
      "needs_background": "light"
     },
     "output_type": "display_data"
    }
   ],
   "source": [
    "plt.figure(figsize=(12,10))\n",
    "cor = df_members_no_cond.corr()\n",
    "sns.heatmap(cor, annot=True, cmap=plt.cm.Blues)\n",
    "plt.show()"
   ]
  },
  {
   "cell_type": "code",
   "execution_count": 25,
   "metadata": {
    "ExecuteTime": {
     "end_time": "2022-08-05T20:15:50.876407Z",
     "start_time": "2022-08-05T20:15:50.771214Z"
    }
   },
   "outputs": [
    {
     "data": {
      "text/plain": [
       "<AxesSubplot:>"
      ]
     },
     "execution_count": 25,
     "metadata": {},
     "output_type": "execute_result"
    },
    {
     "data": {
      "image/png": "[encoded data removed]",
      "text/plain": [
       "<Figure size 432x288 with 1 Axes>"
      ]
     },
     "metadata": {
      "needs_background": "light"
     },
     "output_type": "display_data"
    }
   ],
   "source": [
    "df_members['TCC'].hist()"
   ]
  },
  {
   "cell_type": "code",
   "execution_count": 30,
   "metadata": {
    "ExecuteTime": {
     "end_time": "2022-08-05T20:22:16.653539Z",
     "start_time": "2022-08-05T20:22:16.641899Z"
    }
   },
   "outputs": [],
   "source": [
    "df_members['PMPM'] = (df_members['TCC']/df_members['MBR_MONTHS'])"
   ]
  },
  {
   "cell_type": "code",
   "execution_count": 31,
   "metadata": {
    "ExecuteTime": {
     "end_time": "2022-08-05T20:22:18.256854Z",
     "start_time": "2022-08-05T20:22:18.234803Z"
    }
   },
   "outputs": [
    {
     "data": {
      "text/html": [
       "<div>\n",
       "<style scoped>\n",
       "    .dataframe tbody tr th:only-of-type {\n",
       "        vertical-align: middle;\n",
       "    }\n",
       "\n",
       "    .dataframe tbody tr th {\n",
       "        vertical-align: top;\n",
       "    }\n",
       "\n",
       "    .dataframe thead th {\n",
       "        text-align: right;\n",
       "    }\n",
       "</style>\n",
       "<table border=\"1\" class=\"dataframe\">\n",
       "  <thead>\n",
       "    <tr style=\"text-align: right;\">\n",
       "      <th></th>\n",
       "      <th>MEMBER</th>\n",
       "      <th>MBR_MONTHS</th>\n",
       "      <th>DIAB_FLAG</th>\n",
       "      <th>VASC</th>\n",
       "      <th>PAD</th>\n",
       "      <th>AMI</th>\n",
       "      <th>COPD</th>\n",
       "      <th>CHF</th>\n",
       "      <th>STROKE</th>\n",
       "      <th>ASTHMA</th>\n",
       "      <th>COND</th>\n",
       "      <th>DOB</th>\n",
       "      <th>RACE-ETH</th>\n",
       "      <th>GENDER</th>\n",
       "      <th>TCC</th>\n",
       "      <th>PMPM</th>\n",
       "    </tr>\n",
       "  </thead>\n",
       "  <tbody>\n",
       "    <tr>\n",
       "      <th>0</th>\n",
       "      <td>PAYER1_000001</td>\n",
       "      <td>12</td>\n",
       "      <td>0</td>\n",
       "      <td>0</td>\n",
       "      <td>0</td>\n",
       "      <td>0</td>\n",
       "      <td>0</td>\n",
       "      <td>0</td>\n",
       "      <td>0</td>\n",
       "      <td>0</td>\n",
       "      <td>0</td>\n",
       "      <td>46</td>\n",
       "      <td>WHITE</td>\n",
       "      <td>F</td>\n",
       "      <td>100</td>\n",
       "      <td>8.333333</td>\n",
       "    </tr>\n",
       "    <tr>\n",
       "      <th>1</th>\n",
       "      <td>PAYER1_000002</td>\n",
       "      <td>12</td>\n",
       "      <td>0</td>\n",
       "      <td>0</td>\n",
       "      <td>0</td>\n",
       "      <td>0</td>\n",
       "      <td>0</td>\n",
       "      <td>0</td>\n",
       "      <td>0</td>\n",
       "      <td>0</td>\n",
       "      <td>0</td>\n",
       "      <td>66</td>\n",
       "      <td>UNKNOWN</td>\n",
       "      <td>M</td>\n",
       "      <td>1700</td>\n",
       "      <td>141.666667</td>\n",
       "    </tr>\n",
       "    <tr>\n",
       "      <th>2</th>\n",
       "      <td>PAYER1_000003</td>\n",
       "      <td>12</td>\n",
       "      <td>0</td>\n",
       "      <td>0</td>\n",
       "      <td>0</td>\n",
       "      <td>0</td>\n",
       "      <td>0</td>\n",
       "      <td>0</td>\n",
       "      <td>0</td>\n",
       "      <td>0</td>\n",
       "      <td>0</td>\n",
       "      <td>59</td>\n",
       "      <td>UNKNOWN</td>\n",
       "      <td>M</td>\n",
       "      <td>7000</td>\n",
       "      <td>583.333333</td>\n",
       "    </tr>\n",
       "    <tr>\n",
       "      <th>3</th>\n",
       "      <td>PAYER1_000004</td>\n",
       "      <td>12</td>\n",
       "      <td>0</td>\n",
       "      <td>0</td>\n",
       "      <td>0</td>\n",
       "      <td>1</td>\n",
       "      <td>0</td>\n",
       "      <td>0</td>\n",
       "      <td>0</td>\n",
       "      <td>0</td>\n",
       "      <td>1</td>\n",
       "      <td>60</td>\n",
       "      <td>UNKNOWN</td>\n",
       "      <td>M</td>\n",
       "      <td>800</td>\n",
       "      <td>66.666667</td>\n",
       "    </tr>\n",
       "    <tr>\n",
       "      <th>4</th>\n",
       "      <td>PAYER1_000005</td>\n",
       "      <td>12</td>\n",
       "      <td>0</td>\n",
       "      <td>0</td>\n",
       "      <td>0</td>\n",
       "      <td>0</td>\n",
       "      <td>0</td>\n",
       "      <td>0</td>\n",
       "      <td>0</td>\n",
       "      <td>0</td>\n",
       "      <td>0</td>\n",
       "      <td>61</td>\n",
       "      <td>UNKNOWN</td>\n",
       "      <td>M</td>\n",
       "      <td>1400</td>\n",
       "      <td>116.666667</td>\n",
       "    </tr>\n",
       "    <tr>\n",
       "      <th>...</th>\n",
       "      <td>...</td>\n",
       "      <td>...</td>\n",
       "      <td>...</td>\n",
       "      <td>...</td>\n",
       "      <td>...</td>\n",
       "      <td>...</td>\n",
       "      <td>...</td>\n",
       "      <td>...</td>\n",
       "      <td>...</td>\n",
       "      <td>...</td>\n",
       "      <td>...</td>\n",
       "      <td>...</td>\n",
       "      <td>...</td>\n",
       "      <td>...</td>\n",
       "      <td>...</td>\n",
       "      <td>...</td>\n",
       "    </tr>\n",
       "    <tr>\n",
       "      <th>75</th>\n",
       "      <td>PAYER4_000016</td>\n",
       "      <td>12</td>\n",
       "      <td>1</td>\n",
       "      <td>1</td>\n",
       "      <td>0</td>\n",
       "      <td>0</td>\n",
       "      <td>0</td>\n",
       "      <td>1</td>\n",
       "      <td>1</td>\n",
       "      <td>0</td>\n",
       "      <td>1</td>\n",
       "      <td>79</td>\n",
       "      <td>WHITE</td>\n",
       "      <td>M</td>\n",
       "      <td>105800</td>\n",
       "      <td>8816.666667</td>\n",
       "    </tr>\n",
       "    <tr>\n",
       "      <th>76</th>\n",
       "      <td>PAYER4_000017</td>\n",
       "      <td>12</td>\n",
       "      <td>0</td>\n",
       "      <td>0</td>\n",
       "      <td>0</td>\n",
       "      <td>0</td>\n",
       "      <td>0</td>\n",
       "      <td>0</td>\n",
       "      <td>0</td>\n",
       "      <td>0</td>\n",
       "      <td>0</td>\n",
       "      <td>82</td>\n",
       "      <td>BLACK OR AFRICAN-AMERICAN</td>\n",
       "      <td>F</td>\n",
       "      <td>1000</td>\n",
       "      <td>83.333333</td>\n",
       "    </tr>\n",
       "    <tr>\n",
       "      <th>77</th>\n",
       "      <td>PAYER4_000018</td>\n",
       "      <td>12</td>\n",
       "      <td>0</td>\n",
       "      <td>0</td>\n",
       "      <td>0</td>\n",
       "      <td>0</td>\n",
       "      <td>0</td>\n",
       "      <td>0</td>\n",
       "      <td>0</td>\n",
       "      <td>0</td>\n",
       "      <td>0</td>\n",
       "      <td>78</td>\n",
       "      <td>WHITE</td>\n",
       "      <td>F</td>\n",
       "      <td>1300</td>\n",
       "      <td>108.333333</td>\n",
       "    </tr>\n",
       "    <tr>\n",
       "      <th>78</th>\n",
       "      <td>PAYER4_000019</td>\n",
       "      <td>12</td>\n",
       "      <td>1</td>\n",
       "      <td>1</td>\n",
       "      <td>1</td>\n",
       "      <td>0</td>\n",
       "      <td>1</td>\n",
       "      <td>0</td>\n",
       "      <td>0</td>\n",
       "      <td>0</td>\n",
       "      <td>1</td>\n",
       "      <td>87</td>\n",
       "      <td>WHITE</td>\n",
       "      <td>M</td>\n",
       "      <td>109600</td>\n",
       "      <td>9133.333333</td>\n",
       "    </tr>\n",
       "    <tr>\n",
       "      <th>79</th>\n",
       "      <td>PAYER4_000020</td>\n",
       "      <td>12</td>\n",
       "      <td>1</td>\n",
       "      <td>1</td>\n",
       "      <td>1</td>\n",
       "      <td>1</td>\n",
       "      <td>0</td>\n",
       "      <td>0</td>\n",
       "      <td>0</td>\n",
       "      <td>0</td>\n",
       "      <td>1</td>\n",
       "      <td>78</td>\n",
       "      <td>HISPANIC</td>\n",
       "      <td>M</td>\n",
       "      <td>5400</td>\n",
       "      <td>450.000000</td>\n",
       "    </tr>\n",
       "  </tbody>\n",
       "</table>\n",
       "<p>80 rows × 16 columns</p>\n",
       "</div>"
      ],
      "text/plain": [
       "           MEMBER  MBR_MONTHS  DIAB_FLAG  VASC  PAD  AMI  COPD  CHF  STROKE  \\\n",
       "0   PAYER1_000001          12          0     0    0    0     0    0       0   \n",
       "1   PAYER1_000002          12          0     0    0    0     0    0       0   \n",
       "2   PAYER1_000003          12          0     0    0    0     0    0       0   \n",
       "3   PAYER1_000004          12          0     0    0    1     0    0       0   \n",
       "4   PAYER1_000005          12          0     0    0    0     0    0       0   \n",
       "..            ...         ...        ...   ...  ...  ...   ...  ...     ...   \n",
       "75  PAYER4_000016          12          1     1    0    0     0    1       1   \n",
       "76  PAYER4_000017          12          0     0    0    0     0    0       0   \n",
       "77  PAYER4_000018          12          0     0    0    0     0    0       0   \n",
       "78  PAYER4_000019          12          1     1    1    0     1    0       0   \n",
       "79  PAYER4_000020          12          1     1    1    1     0    0       0   \n",
       "\n",
       "    ASTHMA  COND  DOB                   RACE-ETH GENDER     TCC         PMPM  \n",
       "0        0     0   46                      WHITE      F     100     8.333333  \n",
       "1        0     0   66                    UNKNOWN      M    1700   141.666667  \n",
       "2        0     0   59                    UNKNOWN      M    7000   583.333333  \n",
       "3        0     1   60                    UNKNOWN      M     800    66.666667  \n",
       "4        0     0   61                    UNKNOWN      M    1400   116.666667  \n",
       "..     ...   ...  ...                        ...    ...     ...          ...  \n",
       "75       0     1   79                      WHITE      M  105800  8816.666667  \n",
       "76       0     0   82  BLACK OR AFRICAN-AMERICAN      F    1000    83.333333  \n",
       "77       0     0   78                      WHITE      F    1300   108.333333  \n",
       "78       0     1   87                      WHITE      M  109600  9133.333333  \n",
       "79       0     1   78                   HISPANIC      M    5400   450.000000  \n",
       "\n",
       "[80 rows x 16 columns]"
      ]
     },
     "execution_count": 31,
     "metadata": {},
     "output_type": "execute_result"
    }
   ],
   "source": [
    "df_members"
   ]
  },
  {
   "cell_type": "code",
   "execution_count": null,
   "metadata": {},
   "outputs": [],
   "source": []
  }
 ],
 "metadata": {
  "kernelspec": {
   "display_name": "Python 3",
   "language": "python",
   "name": "python3"
  },
  "language_info": {
   "codemirror_mode": {
    "name": "ipython",
    "version": 3
   },
   "file_extension": ".py",
   "mimetype": "text/x-python",
   "name": "python",
   "nbconvert_exporter": "python",
   "pygments_lexer": "ipython3",
   "version": "3.8.5"
  },
  "latex_envs": {
   "LaTeX_envs_menu_present": true,
   "autoclose": false,
   "autocomplete": true,
   "bibliofile": "biblio.bib",
   "cite_by": "apalike",
   "current_citInitial": 1,
   "eqLabelWithNumbers": true,
   "eqNumInitial": 1,
   "hotkeys": {
    "equation": "Ctrl-E",
    "itemize": "Ctrl-I"
   },
   "labels_anchors": false,
   "latex_user_defs": false,
   "report_style_numbering": false,
   "user_envs_cfg": false
  },
  "toc": {
   "base_numbering": 1,
   "nav_menu": {},
   "number_sections": true,
   "sideBar": true,
   "skip_h1_title": false,
   "title_cell": "Table of Contents",
   "title_sidebar": "Contents",
   "toc_cell": false,
   "toc_position": {},
   "toc_section_display": true,
   "toc_window_display": false
  }
 },
 "nbformat": 4,
 "nbformat_minor": 2
}
